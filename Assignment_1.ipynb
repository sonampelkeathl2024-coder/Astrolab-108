{
  "nbformat": 4,
  "nbformat_minor": 0,
  "metadata": {
    "colab": {
      "provenance": []
    },
    "kernelspec": {
      "name": "python3",
      "display_name": "Python 3"
    },
    "language_info": {
      "name": "python"
    }
  },
  "cells": [
    {
      "cell_type": "code",
      "execution_count": null,
      "metadata": {
        "colab": {
          "base_uri": "https://localhost:8080/"
        },
        "id": "tlNb84cfJ-pt",
        "outputId": "527fe6e9-d938-4830-a2c3-8d46449d6802"
      },
      "outputs": [
        {
          "output_type": "stream",
          "name": "stdout",
          "text": [
            "first three characters: oxy\n",
            "last three characters: gen\n",
            "value of element[:4]: oxyg\n",
            "value of element[4:]: en\n",
            "value of element[:]: oxygen\n",
            "value of element[-1]: n\n",
            "value of element[-2]: e\n",
            "last three characters: ium\n",
            "last three characters: try\n",
            "last three characters: one\n",
            "last three characters: hi\n",
            "A = \n",
            "[[1 2 3]\n",
            " [4 5 6]\n",
            " [7 8 9]]\n",
            "B = \n",
            "[[1 2 3 1 2 3]\n",
            " [4 5 6 4 5 6]\n",
            " [7 8 9 7 8 9]]\n",
            "C = \n",
            "[[1 2 3]\n",
            " [4 5 6]\n",
            " [7 8 9]\n",
            " [1 2 3]\n",
            " [4 5 6]\n",
            " [7 8 9]]\n",
            "D = \n",
            "[[1 3]\n",
            " [4 6]\n",
            " [7 9]]\n"
          ]
        }
      ],
      "source": [
        "element = 'oxygen'\n",
        "\n",
        "print('first three characters:', element[0:3])\n",
        "print('last three characters:', element[3:6])\n",
        "#Challenge 1\n",
        "print('value of element[:4]:', element[:4])\n",
        "print('value of element[4:]:', element[4:])\n",
        "print('value of element[:]:', element[:])\n",
        "#Challenge 2\n",
        "print('value of element[-1]:', element[-1])\n",
        "print('value of element[-2]:', element[-2])\n",
        "#Challenge 3_Ans: element[1:-1] element[1:-1] gives you all characters except the first and the last one.\n",
        "#Challenge 4_Ans:\n",
        "element = 'helium'\n",
        "print('last three characters:', element[-3:])\n",
        "element = 'carpentry'\n",
        "print('last three characters:', element[-3:])\n",
        "element = 'clone'\n",
        "print('last three characters:', element[-3:])\n",
        "element = 'hi'\n",
        "print('last three characters:', element[-3:])\n",
        "#Challenge 5 (STACKING ARRAYS):\n",
        "import numpy\n",
        "\n",
        "A = numpy.array([[1, 2, 3], [4, 5, 6], [7, 8, 9]])\n",
        "print('A = ')\n",
        "print(A)\n",
        "\n",
        "B = numpy.hstack([A, A])\n",
        "print('B = ')\n",
        "print(B)\n",
        "\n",
        "C = numpy.vstack([A, A])\n",
        "print('C = ')\n",
        "print(C)\n",
        "D = numpy.hstack((A[:, :1], A[:, -1:]))\n",
        "print('D = ')\n",
        "print(D)\n",
        "\n",
        "\n",
        "\n",
        "\n"
      ]
    },
    {
      "cell_type": "code",
      "source": [
        "n_terms = 10\n",
        "# First two terms of the Fibonacci sequence\n",
        "a, b = 0, 1\n",
        "print(\"Fibonacci sequence:\")\n",
        "for _ in range(n_terms):\n",
        "    print(a, end=' ')\n",
        "    a, b = b, a + b"
      ],
      "metadata": {
        "colab": {
          "base_uri": "https://localhost:8080/"
        },
        "id": "BByGHPqhTDl_",
        "outputId": "948b7952-0986-4586-cb72-a76f21d06f47"
      },
      "execution_count": null,
      "outputs": [
        {
          "output_type": "stream",
          "name": "stdout",
          "text": [
            "Fibonacci sequence:\n",
            "0 1 1 2 3 5 8 13 21 34 "
          ]
        }
      ]
    }
  ]
}